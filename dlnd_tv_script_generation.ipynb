{
 "cells": [
  {
   "cell_type": "markdown",
   "metadata": {
    "deletable": true,
    "editable": true
   },
   "source": [
    "# TV Script Generation\n",
    "In this project, you'll generate your own [Simpsons](https://en.wikipedia.org/wiki/The_Simpsons) TV scripts using RNNs.  You'll be using part of the [Simpsons dataset](https://www.kaggle.com/wcukierski/the-simpsons-by-the-data) of scripts from 27 seasons.  The Neural Network you'll build will generate a new TV script for a scene at [Moe's Tavern](https://simpsonswiki.com/wiki/Moe's_Tavern).\n",
    "## Get the Data\n",
    "The data is already provided for you.  You'll be using a subset of the original dataset.  It consists of only the scenes in Moe's Tavern.  This doesn't include other versions of the tavern, like \"Moe's Cavern\", \"Flaming Moe's\", \"Uncle Moe's Family Feed-Bag\", etc.."
   ]
  },
  {
   "cell_type": "code",
   "execution_count": 1,
   "metadata": {
    "collapsed": false,
    "deletable": true,
    "editable": true
   },
   "outputs": [],
   "source": [
    "\"\"\"\n",
    "DON'T MODIFY ANYTHING IN THIS CELL\n",
    "\"\"\"\n",
    "import helper\n",
    "\n",
    "data_dir = './data/simpsons/moes_tavern_lines.txt'\n",
    "text = helper.load_data(data_dir)\n",
    "# Ignore notice, since we don't use it for analysing the data\n",
    "text = text[81:]"
   ]
  },
  {
   "cell_type": "markdown",
   "metadata": {
    "deletable": true,
    "editable": true
   },
   "source": [
    "## Explore the Data\n",
    "Play around with `view_sentence_range` to view different parts of the data."
   ]
  },
  {
   "cell_type": "code",
   "execution_count": 2,
   "metadata": {
    "collapsed": false,
    "deletable": true,
    "editable": true
   },
   "outputs": [
    {
     "name": "stdout",
     "output_type": "stream",
     "text": [
      "Dataset Stats\n",
      "Roughly the number of unique words: 11492\n",
      "Number of scenes: 262\n",
      "Average number of sentences in each scene: 15.248091603053435\n",
      "Number of lines: 4257\n",
      "Average number of words in each line: 11.50434578341555\n",
      "\n",
      "The sentences 0 to 10:\n",
      "Moe_Szyslak: (INTO PHONE) Moe's Tavern. Where the elite meet to drink.\n",
      "Bart_Simpson: Eh, yeah, hello, is Mike there? Last name, Rotch.\n",
      "Moe_Szyslak: (INTO PHONE) Hold on, I'll check. (TO BARFLIES) Mike Rotch. Mike Rotch. Hey, has anybody seen Mike Rotch, lately?\n",
      "Moe_Szyslak: (INTO PHONE) Listen you little puke. One of these days I'm gonna catch you, and I'm gonna carve my name on your back with an ice pick.\n",
      "Moe_Szyslak: What's the matter Homer? You're not your normal effervescent self.\n",
      "Homer_Simpson: I got my problems, Moe. Give me another one.\n",
      "Moe_Szyslak: Homer, hey, you should not drink to forget your problems.\n",
      "Barney_Gumble: Yeah, you should only drink to enhance your social skills.\n",
      "\n",
      "\n"
     ]
    }
   ],
   "source": [
    "view_sentence_range = (0, 10)\n",
    "\n",
    "\"\"\"\n",
    "DON'T MODIFY ANYTHING IN THIS CELL\n",
    "\"\"\"\n",
    "import numpy as np\n",
    "\n",
    "print('Dataset Stats')\n",
    "print('Roughly the number of unique words: {}'.format(len({word: None for word in text.split()})))\n",
    "scenes = text.split('\\n\\n')\n",
    "print('Number of scenes: {}'.format(len(scenes)))\n",
    "sentence_count_scene = [scene.count('\\n') for scene in scenes]\n",
    "print('Average number of sentences in each scene: {}'.format(np.average(sentence_count_scene)))\n",
    "\n",
    "sentences = [sentence for scene in scenes for sentence in scene.split('\\n')]\n",
    "print('Number of lines: {}'.format(len(sentences)))\n",
    "word_count_sentence = [len(sentence.split()) for sentence in sentences]\n",
    "print('Average number of words in each line: {}'.format(np.average(word_count_sentence)))\n",
    "\n",
    "print()\n",
    "print('The sentences {} to {}:'.format(*view_sentence_range))\n",
    "print('\\n'.join(text.split('\\n')[view_sentence_range[0]:view_sentence_range[1]]))"
   ]
  },
  {
   "cell_type": "markdown",
   "metadata": {
    "deletable": true,
    "editable": true
   },
   "source": [
    "## Implement Preprocessing Functions\n",
    "The first thing to do to any dataset is preprocessing.  Implement the following preprocessing functions below:\n",
    "- Lookup Table\n",
    "- Tokenize Punctuation\n",
    "\n",
    "### Lookup Table\n",
    "To create a word embedding, you first need to transform the words to ids.  In this function, create two dictionaries:\n",
    "- Dictionary to go from the words to an id, we'll call `vocab_to_int`\n",
    "- Dictionary to go from the id to word, we'll call `int_to_vocab`\n",
    "\n",
    "Return these dictionaries in the following tuple `(vocab_to_int, int_to_vocab)`"
   ]
  },
  {
   "cell_type": "code",
   "execution_count": 3,
   "metadata": {
    "collapsed": false,
    "deletable": true,
    "editable": true
   },
   "outputs": [
    {
     "name": "stdout",
     "output_type": "stream",
     "text": [
      "Tests Passed\n"
     ]
    }
   ],
   "source": [
    "import numpy as np\n",
    "from collections import Counter\n",
    "import problem_unittests as tests\n",
    "\n",
    "def create_lookup_tables(text):\n",
    "    \"\"\"\n",
    "    Create lookup tables for vocabulary\n",
    "    :param text: The text of tv scripts split into words\n",
    "    :return: A tuple of dicts (vocab_to_int, int_to_vocab)\n",
    "    \"\"\"\n",
    "    word_counts = Counter(text)\n",
    "    sorted_vocab = sorted(word_counts, key=word_counts.get, reverse=True)\n",
    "    int_to_vocab = {ii: word for ii, word in enumerate(sorted_vocab)}\n",
    "    vocab_to_int = {word: ii for ii, word in int_to_vocab.items()}\n",
    "    \n",
    "    return(vocab_to_int, int_to_vocab)\n",
    "\n",
    "\"\"\"\n",
    "DON'T MODIFY ANYTHING IN THIS CELL THAT IS BELOW THIS LINE\n",
    "\"\"\"\n",
    "tests.test_create_lookup_tables(create_lookup_tables)"
   ]
  },
  {
   "cell_type": "markdown",
   "metadata": {
    "deletable": true,
    "editable": true
   },
   "source": [
    "### Tokenize Punctuation\n",
    "We'll be splitting the script into a word array using spaces as delimiters.  However, punctuations like periods and exclamation marks make it hard for the neural network to distinguish between the word \"bye\" and \"bye!\".\n",
    "\n",
    "Implement the function `token_lookup` to return a dict that will be used to tokenize symbols like \"!\" into \"||Exclamation_Mark||\".  Create a dictionary for the following symbols where the symbol is the key and value is the token:\n",
    "- Period ( . )\n",
    "- Comma ( , )\n",
    "- Quotation Mark ( \" )\n",
    "- Semicolon ( ; )\n",
    "- Exclamation mark ( ! )\n",
    "- Question mark ( ? )\n",
    "- Left Parentheses ( ( )\n",
    "- Right Parentheses ( ) )\n",
    "- Dash ( -- )\n",
    "- Return ( \\n )\n",
    "\n",
    "This dictionary will be used to token the symbols and add the delimiter (space) around it.  This separates the symbols as it's own word, making it easier for the neural network to predict on the next word. Make sure you don't use a token that could be confused as a word. Instead of using the token \"dash\", try using something like \"||dash||\"."
   ]
  },
  {
   "cell_type": "code",
   "execution_count": 4,
   "metadata": {
    "collapsed": false,
    "deletable": true,
    "editable": true
   },
   "outputs": [
    {
     "name": "stdout",
     "output_type": "stream",
     "text": [
      "Tests Passed\n"
     ]
    }
   ],
   "source": [
    "def token_lookup():\n",
    "    \"\"\"\n",
    "    Generate a dict to turn punctuation into a token.\n",
    "    :return: Tokenize dictionary where the key is the punctuation and the value is the token\n",
    "    \"\"\"\n",
    "    punct = { '.' : '||PERIOD||',\n",
    "              ',' : '||COMMA||',\n",
    "              '\"' : '||QUOTATION_MARK||',\n",
    "              ';' : '||SEMICOLON||',\n",
    "              '!' : '||EXCLAMATION_MARK||',\n",
    "              '?' : '||QUESTION_MARK||',\n",
    "              '(' : '||LEFT_PAREN||',\n",
    "              ')' : '||RIGHT_PAREN||',\n",
    "              '--' : '||HYPHENS||',\n",
    "              '?' : '||QUESTION_MARK||',\n",
    "              '\\n' : '||NEW_LINE||'}\n",
    "    \n",
    "    return(punct)\n",
    "\n",
    "\"\"\"\n",
    "DON'T MODIFY ANYTHING IN THIS CELL THAT IS BELOW THIS LINE\n",
    "\"\"\"\n",
    "tests.test_tokenize(token_lookup)"
   ]
  },
  {
   "cell_type": "markdown",
   "metadata": {
    "deletable": true,
    "editable": true
   },
   "source": [
    "## Preprocess all the data and save it\n",
    "Running the code cell below will preprocess all the data and save it to file."
   ]
  },
  {
   "cell_type": "code",
   "execution_count": 5,
   "metadata": {
    "collapsed": false,
    "deletable": true,
    "editable": true
   },
   "outputs": [],
   "source": [
    "\"\"\"\n",
    "DON'T MODIFY ANYTHING IN THIS CELL\n",
    "\"\"\"\n",
    "# Preprocess Training, Validation, and Testing Data\n",
    "helper.preprocess_and_save_data(data_dir, token_lookup, create_lookup_tables)"
   ]
  },
  {
   "cell_type": "markdown",
   "metadata": {
    "deletable": true,
    "editable": true
   },
   "source": [
    "# Check Point\n",
    "This is your first checkpoint. If you ever decide to come back to this notebook or have to restart the notebook, you can start from here. The preprocessed data has been saved to disk."
   ]
  },
  {
   "cell_type": "code",
   "execution_count": 1,
   "metadata": {
    "collapsed": false,
    "deletable": true,
    "editable": true
   },
   "outputs": [],
   "source": [
    "\"\"\"\n",
    "DON'T MODIFY ANYTHING IN THIS CELL\n",
    "\"\"\"\n",
    "import helper\n",
    "import numpy as np\n",
    "import problem_unittests as tests\n",
    "\n",
    "int_text, vocab_to_int, int_to_vocab, token_dict = helper.load_preprocess()"
   ]
  },
  {
   "cell_type": "markdown",
   "metadata": {
    "deletable": true,
    "editable": true
   },
   "source": [
    "## Build the Neural Network\n",
    "You'll build the components necessary to build a RNN by implementing the following functions below:\n",
    "- get_inputs\n",
    "- get_init_cell\n",
    "- get_embed\n",
    "- build_rnn\n",
    "- build_nn\n",
    "- get_batches\n",
    "\n",
    "### Check the Version of TensorFlow and Access to GPU"
   ]
  },
  {
   "cell_type": "code",
   "execution_count": 2,
   "metadata": {
    "collapsed": false,
    "deletable": true,
    "editable": true
   },
   "outputs": [
    {
     "name": "stdout",
     "output_type": "stream",
     "text": [
      "TensorFlow Version: 1.0.0\n",
      "Default GPU Device: /gpu:0\n"
     ]
    }
   ],
   "source": [
    "\"\"\"\n",
    "DON'T MODIFY ANYTHING IN THIS CELL\n",
    "\"\"\"\n",
    "from distutils.version import LooseVersion\n",
    "import warnings\n",
    "import tensorflow as tf\n",
    "\n",
    "# Check TensorFlow Version\n",
    "assert LooseVersion(tf.__version__) >= LooseVersion('1.0'), 'Please use TensorFlow version 1.0 or newer'\n",
    "print('TensorFlow Version: {}'.format(tf.__version__))\n",
    "\n",
    "# Check for a GPU\n",
    "if not tf.test.gpu_device_name():\n",
    "    warnings.warn('No GPU found. Please use a GPU to train your neural network.')\n",
    "else:\n",
    "    print('Default GPU Device: {}'.format(tf.test.gpu_device_name()))"
   ]
  },
  {
   "cell_type": "markdown",
   "metadata": {
    "deletable": true,
    "editable": true
   },
   "source": [
    "### Input\n",
    "Implement the `get_inputs()` function to create TF Placeholders for the Neural Network.  It should create the following placeholders:\n",
    "- Input text placeholder named \"input\" using the [TF Placeholder](https://www.tensorflow.org/api_docs/python/tf/placeholder) `name` parameter.\n",
    "- Targets placeholder\n",
    "- Learning Rate placeholder\n",
    "\n",
    "Return the placeholders in the following the tuple `(Input, Targets, LearingRate)`"
   ]
  },
  {
   "cell_type": "code",
   "execution_count": 3,
   "metadata": {
    "collapsed": false,
    "deletable": true,
    "editable": true
   },
   "outputs": [
    {
     "name": "stdout",
     "output_type": "stream",
     "text": [
      "Tests Passed\n"
     ]
    }
   ],
   "source": [
    "def get_inputs():\n",
    "    \"\"\"\n",
    "    Create TF Placeholders for input, targets, and learning rate.\n",
    "    :return: Tuple (input, targets, learning rate)\n",
    "    \"\"\"\n",
    "    \n",
    "    inputs = tf.placeholder(tf.int32, [None, None], name='input')\n",
    "    targets = tf.placeholder(tf.int32, [None, None])\n",
    "    lr = tf.placeholder(tf.float32)\n",
    "    \n",
    "    return(inputs, targets, lr)\n",
    "\n",
    "\n",
    "\"\"\"\n",
    "DON'T MODIFY ANYTHING IN THIS CELL THAT IS BELOW THIS LINE\n",
    "\"\"\"\n",
    "tests.test_get_inputs(get_inputs)"
   ]
  },
  {
   "cell_type": "markdown",
   "metadata": {
    "deletable": true,
    "editable": true
   },
   "source": [
    "### Build RNN Cell and Initialize\n",
    "Stack one or more [`BasicLSTMCells`](https://www.tensorflow.org/api_docs/python/tf/contrib/rnn/BasicLSTMCell) in a [`MultiRNNCell`](https://www.tensorflow.org/api_docs/python/tf/contrib/rnn/MultiRNNCell).\n",
    "- The Rnn size should be set using `rnn_size`\n",
    "- Initalize Cell State using the MultiRNNCell's [`zero_state()`](https://www.tensorflow.org/api_docs/python/tf/contrib/rnn/MultiRNNCell#zero_state) function\n",
    "    - Apply the name \"initial_state\" to the initial state using [`tf.identity()`](https://www.tensorflow.org/api_docs/python/tf/identity)\n",
    "\n",
    "Return the cell and initial state in the following tuple `(Cell, InitialState)`"
   ]
  },
  {
   "cell_type": "code",
   "execution_count": 19,
   "metadata": {
    "collapsed": false,
    "deletable": true,
    "editable": true
   },
   "outputs": [
    {
     "name": "stdout",
     "output_type": "stream",
     "text": [
      "Tests Passed\n"
     ]
    }
   ],
   "source": [
    "def get_init_cell(batch_size, rnn_size):\n",
    "    \"\"\"\n",
    "    Create an RNN Cell and initialize it.\n",
    "    :param batch_size: Size of batches\n",
    "    :param rnn_size: Size of RNNs\n",
    "    :return: Tuple (cell, initialize state)\n",
    "    \"\"\"    \n",
    "    \n",
    "    lstm_layers = 1  \n",
    "\n",
    "    lstm = tf.contrib.rnn.BasicLSTMCell(rnn_size)    \n",
    "    cell = tf.contrib.rnn.MultiRNNCell([lstm] * lstm_layers)    \n",
    "    \n",
    "    state = cell.zero_state(batch_size, tf.float32)\n",
    "    initial_state = tf.identity(state, name='initial_state')\n",
    "    \n",
    "    return(cell, initial_state)\n",
    "\n",
    "\n",
    "\"\"\"\n",
    "DON'T MODIFY ANYTHING IN THIS CELL THAT IS BELOW THIS LINE\n",
    "\"\"\"\n",
    "tests.test_get_init_cell(get_init_cell)"
   ]
  },
  {
   "cell_type": "markdown",
   "metadata": {
    "deletable": true,
    "editable": true
   },
   "source": [
    "### Word Embedding\n",
    "Apply embedding to `input_data` using TensorFlow.  Return the embedded sequence."
   ]
  },
  {
   "cell_type": "code",
   "execution_count": 20,
   "metadata": {
    "collapsed": false,
    "deletable": true,
    "editable": true
   },
   "outputs": [
    {
     "name": "stdout",
     "output_type": "stream",
     "text": [
      "Tests Passed\n"
     ]
    }
   ],
   "source": [
    "def get_embed(input_data, vocab_size, embed_dim):\n",
    "    \"\"\"\n",
    "    Create embedding for <input_data>.\n",
    "    :param input_data: TF placeholder for text input.\n",
    "    :param vocab_size: Number of words in vocabulary.\n",
    "    :param embed_dim: Number of embedding dimensions\n",
    "    :return: Embedded input.\n",
    "    \"\"\"      \n",
    "    \n",
    "    embedding = tf.Variable(tf.random_normal([vocab_size, embed_dim], stddev=0.05))\n",
    "    embed = tf.nn.embedding_lookup(embedding, input_data)\n",
    "    \n",
    "    return(embed)\n",
    "\n",
    "\n",
    "\"\"\"\n",
    "DON'T MODIFY ANYTHING IN THIS CELL THAT IS BELOW THIS LINE\n",
    "\"\"\"\n",
    "tests.test_get_embed(get_embed)"
   ]
  },
  {
   "cell_type": "markdown",
   "metadata": {
    "deletable": true,
    "editable": true
   },
   "source": [
    "### Build RNN\n",
    "You created a RNN Cell in the `get_init_cell()` function.  Time to use the cell to create a RNN.\n",
    "- Build the RNN using the [`tf.nn.dynamic_rnn()`](https://www.tensorflow.org/api_docs/python/tf/nn/dynamic_rnn)\n",
    " - Apply the name \"final_state\" to the final state using [`tf.identity()`](https://www.tensorflow.org/api_docs/python/tf/identity)\n",
    "\n",
    "Return the outputs and final_state state in the following tuple `(Outputs, FinalState)` "
   ]
  },
  {
   "cell_type": "code",
   "execution_count": 21,
   "metadata": {
    "collapsed": false,
    "deletable": true,
    "editable": true
   },
   "outputs": [
    {
     "name": "stdout",
     "output_type": "stream",
     "text": [
      "Tests Passed\n"
     ]
    }
   ],
   "source": [
    "def build_rnn(cell, inputs):\n",
    "    \"\"\"\n",
    "    Create a RNN using a RNN Cell\n",
    "    :param cell: RNN Cell\n",
    "    :param inputs: Input text data\n",
    "    :return: Tuple (Outputs, Final State)\n",
    "    \"\"\"\n",
    "    \n",
    "    outputs, state = tf.nn.dynamic_rnn(cell, inputs, dtype=tf.float32)\n",
    "    final_state = tf.identity(state, name='final_state')\n",
    "    \n",
    "    return(outputs, final_state)\n",
    "\n",
    "\n",
    "\"\"\"\n",
    "DON'T MODIFY ANYTHING IN THIS CELL THAT IS BELOW THIS LINE\n",
    "\"\"\"\n",
    "tests.test_build_rnn(build_rnn)"
   ]
  },
  {
   "cell_type": "markdown",
   "metadata": {
    "deletable": true,
    "editable": true
   },
   "source": [
    "### Build the Neural Network\n",
    "Apply the functions you implemented above to:\n",
    "- Apply embedding to `input_data` using your `get_embed(input_data, vocab_size, embed_dim)` function.\n",
    "- Build RNN using `cell` and your `build_rnn(cell, inputs)` function.\n",
    "- Apply a fully connected layer with a linear activation and `vocab_size` as the number of outputs.\n",
    "\n",
    "Return the logits and final state in the following tuple (Logits, FinalState) "
   ]
  },
  {
   "cell_type": "code",
   "execution_count": 22,
   "metadata": {
    "collapsed": false,
    "deletable": true,
    "editable": true
   },
   "outputs": [
    {
     "name": "stdout",
     "output_type": "stream",
     "text": [
      "Tests Passed\n"
     ]
    }
   ],
   "source": [
    "def build_nn(cell, rnn_size, input_data, vocab_size):\n",
    "    \"\"\"\n",
    "    Build part of the neural network\n",
    "    :param cell: RNN cell\n",
    "    :param rnn_size: Size of rnns\n",
    "    :param input_data: Input data\n",
    "    :param vocab_size: Vocabulary size\n",
    "    :return: Tuple (Logits, FinalState)\n",
    "    \"\"\"\n",
    "   \n",
    "    embed = get_embed(input_data, vocab_size, rnn_size)    \n",
    "    outputs, final_state = build_rnn(cell, embed) \n",
    "    \n",
    "    logits = tf.contrib.layers.fully_connected(outputs, vocab_size, activation_fn=None)\n",
    "    \n",
    "    return(logits, final_state) \n",
    "\n",
    "\n",
    "\"\"\"\n",
    "DON'T MODIFY ANYTHING IN THIS CELL THAT IS BELOW THIS LINE\n",
    "\"\"\"\n",
    "tests.test_build_nn(build_nn)"
   ]
  },
  {
   "cell_type": "markdown",
   "metadata": {
    "deletable": true,
    "editable": true
   },
   "source": [
    "### Batches\n",
    "Implement `get_batches` to create batches of input and targets using `int_text`.  The batches should be a Numpy array with the shape `(number of batches, 2, batch size, sequence length)`. Each batch contains two elements:\n",
    "- The first element is a single batch of **input** with the shape `[batch size, sequence length]`\n",
    "- The second element is a single batch of **targets** with the shape `[batch size, sequence length]`\n",
    "\n",
    "If you can't fill the last batch with enough data, drop the last batch.\n",
    "\n",
    "For exmple, `get_batches([1, 2, 3, 4, 5, 6, 7, 8, 9, 10, 11, 12, 13, 14, 15], 2, 3)` would return a Numpy array of the following:\n",
    "```\n",
    "[\n",
    "  # First Batch\n",
    "  [\n",
    "    # Batch of Input\n",
    "    [[ 1  2  3], [ 7  8  9]],\n",
    "    # Batch of targets\n",
    "    [[ 2  3  4], [ 8  9 10]]\n",
    "  ],\n",
    " \n",
    "  # Second Batch\n",
    "  [\n",
    "    # Batch of Input\n",
    "    [[ 4  5  6], [10 11 12]],\n",
    "    # Batch of targets\n",
    "    [[ 5  6  7], [11 12 13]]\n",
    "  ]\n",
    "]\n",
    "```"
   ]
  },
  {
   "cell_type": "code",
   "execution_count": 23,
   "metadata": {
    "collapsed": false,
    "deletable": true,
    "editable": true
   },
   "outputs": [
    {
     "name": "stdout",
     "output_type": "stream",
     "text": [
      "Tests Passed\n"
     ]
    }
   ],
   "source": [
    "def get_batches(int_text, batch_size, seq_length):\n",
    "    \"\"\"\n",
    "    Return batches of input and target\n",
    "    :param int_text: Text with the words replaced by their ids\n",
    "    :param batch_size: The size of batch\n",
    "    :param seq_length: The length of sequence\n",
    "    :return: Batches as a Numpy array\n",
    "    \"\"\"\n",
    "    '''\n",
    "    # only full batches\n",
    "    num_elements = len(int_text)\n",
    "    num_batches = num_elements // (batch_size * seq_length)\n",
    "    \n",
    "    batches = np.zeros(shape = (num_batches, 2, batch_size, seq_length), dtype = np.int32)\n",
    "    \n",
    "    for i in range(num_batches):\n",
    "        for b in range(batch_size):\n",
    "            \n",
    "            xstart = i * batch_size + b* seq_length * batch_size\n",
    "            xend = xstart + seq_length\n",
    "            \n",
    "            if xend < num_elements:\n",
    "                ystart = xstart + 1\n",
    "                yend = ystart + seq_length\n",
    "                \n",
    "                x = int_text[xstart:xend]\n",
    "                y = int_text[ystart:yend]\n",
    "                \n",
    "                batches[i, 0, b] = x\n",
    "                batches[i, 1, b] = y\n",
    "\n",
    "    return(batches)\n",
    "    '''\n",
    "\n",
    "    n_batches = int(len(int_text) / (batch_size * seq_length))\n",
    "\n",
    "    # Drop the last few characters to make only full batches\n",
    "    xdata = np.array(int_text[: n_batches * batch_size * seq_length])\n",
    "    ydata = np.array(int_text[1: n_batches * batch_size * seq_length + 1])\n",
    "\n",
    "    x_batches = np.split(xdata.reshape(batch_size, -1), n_batches, 1)\n",
    "    y_batches = np.split(ydata.reshape(batch_size, -1), n_batches, 1)\n",
    "\n",
    "    return np.array(list(zip(x_batches, y_batches)))\n",
    "\n",
    "\"\"\"\n",
    "DON'T MODIFY ANYTHING IN THIS CELL THAT IS BELOW THIS LINE\n",
    "\"\"\"\n",
    "tests.test_get_batches(get_batches)"
   ]
  },
  {
   "cell_type": "markdown",
   "metadata": {
    "deletable": true,
    "editable": true
   },
   "source": [
    "## Neural Network Training\n",
    "### Hyperparameters\n",
    "Tune the following parameters:\n",
    "\n",
    "- Set `num_epochs` to the number of epochs.\n",
    "- Set `batch_size` to the batch size.\n",
    "- Set `rnn_size` to the size of the RNNs.\n",
    "- Set `seq_length` to the length of sequence.\n",
    "- Set `learning_rate` to the learning rate.\n",
    "- Set `show_every_n_batches` to the number of batches the neural network should print progress."
   ]
  },
  {
   "cell_type": "code",
   "execution_count": 32,
   "metadata": {
    "collapsed": true,
    "deletable": true,
    "editable": true
   },
   "outputs": [],
   "source": [
    "# Number of Epochs\n",
    "num_epochs = 200\n",
    "# Batch Size\n",
    "batch_size = 250\n",
    "# RNN Size\n",
    "rnn_size = 800\n",
    "# Sequence Length\n",
    "seq_length = 14\n",
    "# Learning Rate\n",
    "learning_rate = 0.001\n",
    "# Show stats for every n number of batches\n",
    "show_every_n_batches = 20\n",
    "\n",
    "\"\"\"\n",
    "DON'T MODIFY ANYTHING IN THIS CELL THAT IS BELOW THIS LINE\n",
    "\"\"\"\n",
    "save_dir = './save'"
   ]
  },
  {
   "cell_type": "markdown",
   "metadata": {
    "deletable": true,
    "editable": true
   },
   "source": [
    "### Build the Graph\n",
    "Build the graph using the neural network you implemented."
   ]
  },
  {
   "cell_type": "code",
   "execution_count": 33,
   "metadata": {
    "collapsed": false,
    "deletable": true,
    "editable": true
   },
   "outputs": [],
   "source": [
    "\"\"\"\n",
    "DON'T MODIFY ANYTHING IN THIS CELL\n",
    "\"\"\"\n",
    "from tensorflow.contrib import seq2seq\n",
    "\n",
    "train_graph = tf.Graph()\n",
    "with train_graph.as_default():\n",
    "    vocab_size = len(int_to_vocab)    \n",
    "    input_text, targets, lr = get_inputs()    \n",
    "    input_data_shape = tf.shape(input_text)    \n",
    "    cell, initial_state = get_init_cell(input_data_shape[0], rnn_size)    \n",
    "    logits, final_state = build_nn(cell, rnn_size, input_text, vocab_size)\n",
    "\n",
    "    # Probabilities for generating words\n",
    "    probs = tf.nn.softmax(logits, name='probs')\n",
    "\n",
    "    # Loss function\n",
    "    cost = seq2seq.sequence_loss(\n",
    "        logits,\n",
    "        targets,\n",
    "        tf.ones([input_data_shape[0], input_data_shape[1]]))\n",
    "\n",
    "    # Optimizer\n",
    "    optimizer = tf.train.AdamOptimizer(lr)\n",
    "\n",
    "    # Gradient Clipping\n",
    "    gradients = optimizer.compute_gradients(cost)\n",
    "    capped_gradients = [(tf.clip_by_value(grad, -1., 1.), var) for grad, var in gradients]\n",
    "    train_op = optimizer.apply_gradients(capped_gradients)"
   ]
  },
  {
   "cell_type": "markdown",
   "metadata": {
    "deletable": true,
    "editable": true
   },
   "source": [
    "## Train\n",
    "Train the neural network on the preprocessed data.  If you have a hard time getting a good loss, check the [forms](https://discussions.udacity.com/) to see if anyone is having the same problem."
   ]
  },
  {
   "cell_type": "code",
   "execution_count": 34,
   "metadata": {
    "collapsed": false,
    "deletable": true,
    "editable": true
   },
   "outputs": [
    {
     "name": "stdout",
     "output_type": "stream",
     "text": [
      "Epoch   0 Batch    0/19   train_loss = 8.822\n",
      "Epoch   1 Batch    1/19   train_loss = 6.367\n",
      "Epoch   2 Batch    2/19   train_loss = 6.035\n",
      "Epoch   3 Batch    3/19   train_loss = 5.658\n",
      "Epoch   4 Batch    4/19   train_loss = 5.268\n",
      "Epoch   5 Batch    5/19   train_loss = 5.222\n",
      "Epoch   6 Batch    6/19   train_loss = 5.027\n",
      "Epoch   7 Batch    7/19   train_loss = 4.945\n",
      "Epoch   8 Batch    8/19   train_loss = 4.740\n",
      "Epoch   9 Batch    9/19   train_loss = 4.603\n",
      "Epoch  10 Batch   10/19   train_loss = 4.423\n",
      "Epoch  11 Batch   11/19   train_loss = 4.352\n",
      "Epoch  12 Batch   12/19   train_loss = 4.263\n",
      "Epoch  13 Batch   13/19   train_loss = 4.224\n",
      "Epoch  14 Batch   14/19   train_loss = 4.088\n",
      "Epoch  15 Batch   15/19   train_loss = 3.996\n",
      "Epoch  16 Batch   16/19   train_loss = 3.896\n",
      "Epoch  17 Batch   17/19   train_loss = 3.805\n",
      "Epoch  18 Batch   18/19   train_loss = 3.804\n",
      "Epoch  20 Batch    0/19   train_loss = 3.681\n",
      "Epoch  21 Batch    1/19   train_loss = 3.541\n",
      "Epoch  22 Batch    2/19   train_loss = 3.580\n",
      "Epoch  23 Batch    3/19   train_loss = 3.424\n",
      "Epoch  24 Batch    4/19   train_loss = 3.274\n",
      "Epoch  25 Batch    5/19   train_loss = 3.380\n",
      "Epoch  26 Batch    6/19   train_loss = 3.260\n",
      "Epoch  27 Batch    7/19   train_loss = 3.207\n",
      "Epoch  28 Batch    8/19   train_loss = 3.142\n",
      "Epoch  29 Batch    9/19   train_loss = 3.099\n",
      "Epoch  30 Batch   10/19   train_loss = 3.044\n",
      "Epoch  31 Batch   11/19   train_loss = 2.912\n",
      "Epoch  32 Batch   12/19   train_loss = 2.882\n",
      "Epoch  33 Batch   13/19   train_loss = 2.845\n",
      "Epoch  34 Batch   14/19   train_loss = 2.710\n",
      "Epoch  35 Batch   15/19   train_loss = 2.686\n",
      "Epoch  36 Batch   16/19   train_loss = 2.623\n",
      "Epoch  37 Batch   17/19   train_loss = 2.581\n",
      "Epoch  38 Batch   18/19   train_loss = 2.583\n",
      "Epoch  40 Batch    0/19   train_loss = 2.491\n",
      "Epoch  41 Batch    1/19   train_loss = 2.423\n",
      "Epoch  42 Batch    2/19   train_loss = 2.466\n",
      "Epoch  43 Batch    3/19   train_loss = 2.383\n",
      "Epoch  44 Batch    4/19   train_loss = 2.363\n",
      "Epoch  45 Batch    5/19   train_loss = 2.380\n",
      "Epoch  46 Batch    6/19   train_loss = 2.326\n",
      "Epoch  47 Batch    7/19   train_loss = 2.274\n",
      "Epoch  48 Batch    8/19   train_loss = 2.217\n",
      "Epoch  49 Batch    9/19   train_loss = 2.177\n",
      "Epoch  50 Batch   10/19   train_loss = 2.154\n",
      "Epoch  51 Batch   11/19   train_loss = 2.039\n",
      "Epoch  52 Batch   12/19   train_loss = 2.042\n",
      "Epoch  53 Batch   13/19   train_loss = 2.001\n",
      "Epoch  54 Batch   14/19   train_loss = 1.904\n",
      "Epoch  55 Batch   15/19   train_loss = 1.905\n",
      "Epoch  56 Batch   16/19   train_loss = 1.842\n",
      "Epoch  57 Batch   17/19   train_loss = 1.848\n",
      "Epoch  58 Batch   18/19   train_loss = 1.838\n",
      "Epoch  60 Batch    0/19   train_loss = 1.783\n",
      "Epoch  61 Batch    1/19   train_loss = 1.725\n",
      "Epoch  62 Batch    2/19   train_loss = 1.739\n",
      "Epoch  63 Batch    3/19   train_loss = 1.661\n",
      "Epoch  64 Batch    4/19   train_loss = 1.664\n",
      "Epoch  65 Batch    5/19   train_loss = 1.671\n",
      "Epoch  66 Batch    6/19   train_loss = 1.660\n",
      "Epoch  67 Batch    7/19   train_loss = 1.603\n",
      "Epoch  68 Batch    8/19   train_loss = 1.542\n",
      "Epoch  69 Batch    9/19   train_loss = 1.571\n",
      "Epoch  70 Batch   10/19   train_loss = 1.554\n",
      "Epoch  71 Batch   11/19   train_loss = 1.449\n",
      "Epoch  72 Batch   12/19   train_loss = 1.457\n",
      "Epoch  73 Batch   13/19   train_loss = 1.399\n",
      "Epoch  74 Batch   14/19   train_loss = 1.358\n",
      "Epoch  75 Batch   15/19   train_loss = 1.362\n",
      "Epoch  76 Batch   16/19   train_loss = 1.320\n",
      "Epoch  77 Batch   17/19   train_loss = 1.360\n",
      "Epoch  78 Batch   18/19   train_loss = 1.358\n",
      "Epoch  80 Batch    0/19   train_loss = 1.330\n",
      "Epoch  81 Batch    1/19   train_loss = 1.270\n",
      "Epoch  82 Batch    2/19   train_loss = 1.269\n",
      "Epoch  83 Batch    3/19   train_loss = 1.200\n",
      "Epoch  84 Batch    4/19   train_loss = 1.247\n",
      "Epoch  85 Batch    5/19   train_loss = 1.235\n",
      "Epoch  86 Batch    6/19   train_loss = 1.201\n",
      "Epoch  87 Batch    7/19   train_loss = 1.135\n",
      "Epoch  88 Batch    8/19   train_loss = 1.090\n",
      "Epoch  89 Batch    9/19   train_loss = 1.123\n",
      "Epoch  90 Batch   10/19   train_loss = 1.106\n",
      "Epoch  91 Batch   11/19   train_loss = 1.017\n",
      "Epoch  92 Batch   12/19   train_loss = 1.040\n",
      "Epoch  93 Batch   13/19   train_loss = 0.975\n",
      "Epoch  94 Batch   14/19   train_loss = 0.954\n",
      "Epoch  95 Batch   15/19   train_loss = 0.978\n",
      "Epoch  96 Batch   16/19   train_loss = 0.920\n",
      "Epoch  97 Batch   17/19   train_loss = 0.932\n",
      "Epoch  98 Batch   18/19   train_loss = 0.902\n",
      "Epoch 100 Batch    0/19   train_loss = 0.886\n",
      "Epoch 101 Batch    1/19   train_loss = 0.859\n",
      "Epoch 102 Batch    2/19   train_loss = 0.853\n",
      "Epoch 103 Batch    3/19   train_loss = 0.806\n",
      "Epoch 104 Batch    4/19   train_loss = 0.847\n",
      "Epoch 105 Batch    5/19   train_loss = 0.828\n",
      "Epoch 106 Batch    6/19   train_loss = 0.817\n",
      "Epoch 107 Batch    7/19   train_loss = 0.769\n",
      "Epoch 108 Batch    8/19   train_loss = 0.758\n",
      "Epoch 109 Batch    9/19   train_loss = 0.800\n",
      "Epoch 110 Batch   10/19   train_loss = 0.801\n",
      "Epoch 111 Batch   11/19   train_loss = 0.716\n",
      "Epoch 112 Batch   12/19   train_loss = 0.745\n",
      "Epoch 113 Batch   13/19   train_loss = 0.699\n",
      "Epoch 114 Batch   14/19   train_loss = 0.679\n",
      "Epoch 115 Batch   15/19   train_loss = 0.686\n",
      "Epoch 116 Batch   16/19   train_loss = 0.644\n",
      "Epoch 117 Batch   17/19   train_loss = 0.655\n",
      "Epoch 118 Batch   18/19   train_loss = 0.617\n",
      "Epoch 120 Batch    0/19   train_loss = 0.607\n",
      "Epoch 121 Batch    1/19   train_loss = 0.603\n",
      "Epoch 122 Batch    2/19   train_loss = 0.593\n",
      "Epoch 123 Batch    3/19   train_loss = 0.570\n",
      "Epoch 124 Batch    4/19   train_loss = 0.639\n",
      "Epoch 125 Batch    5/19   train_loss = 0.629\n",
      "Epoch 126 Batch    6/19   train_loss = 0.611\n",
      "Epoch 127 Batch    7/19   train_loss = 0.576\n",
      "Epoch 128 Batch    8/19   train_loss = 0.589\n",
      "Epoch 129 Batch    9/19   train_loss = 0.660\n",
      "Epoch 130 Batch   10/19   train_loss = 0.696\n",
      "Epoch 131 Batch   11/19   train_loss = 0.623\n",
      "Epoch 132 Batch   12/19   train_loss = 0.640\n",
      "Epoch 133 Batch   13/19   train_loss = 0.558\n",
      "Epoch 134 Batch   14/19   train_loss = 0.535\n",
      "Epoch 135 Batch   15/19   train_loss = 0.543\n",
      "Epoch 136 Batch   16/19   train_loss = 0.505\n",
      "Epoch 137 Batch   17/19   train_loss = 0.501\n",
      "Epoch 138 Batch   18/19   train_loss = 0.472\n",
      "Epoch 140 Batch    0/19   train_loss = 0.467\n",
      "Epoch 141 Batch    1/19   train_loss = 0.484\n",
      "Epoch 142 Batch    2/19   train_loss = 0.475\n",
      "Epoch 143 Batch    3/19   train_loss = 0.454\n",
      "Epoch 144 Batch    4/19   train_loss = 0.485\n",
      "Epoch 145 Batch    5/19   train_loss = 0.446\n",
      "Epoch 146 Batch    6/19   train_loss = 0.422\n",
      "Epoch 147 Batch    7/19   train_loss = 0.394\n",
      "Epoch 148 Batch    8/19   train_loss = 0.392\n",
      "Epoch 149 Batch    9/19   train_loss = 0.413\n",
      "Epoch 150 Batch   10/19   train_loss = 0.421\n",
      "Epoch 151 Batch   11/19   train_loss = 0.373\n",
      "Epoch 152 Batch   12/19   train_loss = 0.401\n",
      "Epoch 153 Batch   13/19   train_loss = 0.379\n",
      "Epoch 154 Batch   14/19   train_loss = 0.368\n",
      "Epoch 155 Batch   15/19   train_loss = 0.388\n",
      "Epoch 156 Batch   16/19   train_loss = 0.367\n",
      "Epoch 157 Batch   17/19   train_loss = 0.381\n",
      "Epoch 158 Batch   18/19   train_loss = 0.355\n",
      "Epoch 160 Batch    0/19   train_loss = 0.351\n",
      "Epoch 161 Batch    1/19   train_loss = 0.356\n",
      "Epoch 162 Batch    2/19   train_loss = 0.336\n",
      "Epoch 163 Batch    3/19   train_loss = 0.315\n",
      "Epoch 164 Batch    4/19   train_loss = 0.345\n",
      "Epoch 165 Batch    5/19   train_loss = 0.340\n",
      "Epoch 166 Batch    6/19   train_loss = 0.335\n",
      "Epoch 167 Batch    7/19   train_loss = 0.324\n",
      "Epoch 168 Batch    8/19   train_loss = 0.323\n",
      "Epoch 169 Batch    9/19   train_loss = 0.339\n",
      "Epoch 170 Batch   10/19   train_loss = 0.355\n",
      "Epoch 171 Batch   11/19   train_loss = 0.322\n",
      "Epoch 172 Batch   12/19   train_loss = 0.348\n",
      "Epoch 173 Batch   13/19   train_loss = 0.331\n",
      "Epoch 174 Batch   14/19   train_loss = 0.325\n",
      "Epoch 175 Batch   15/19   train_loss = 0.355\n",
      "Epoch 176 Batch   16/19   train_loss = 0.325\n",
      "Epoch 177 Batch   17/19   train_loss = 0.354\n",
      "Epoch 178 Batch   18/19   train_loss = 0.343\n",
      "Epoch 180 Batch    0/19   train_loss = 0.353\n",
      "Epoch 181 Batch    1/19   train_loss = 0.364\n",
      "Epoch 182 Batch    2/19   train_loss = 0.329\n",
      "Epoch 183 Batch    3/19   train_loss = 0.287\n",
      "Epoch 184 Batch    4/19   train_loss = 0.310\n",
      "Epoch 185 Batch    5/19   train_loss = 0.299\n",
      "Epoch 186 Batch    6/19   train_loss = 0.288\n",
      "Epoch 187 Batch    7/19   train_loss = 0.277\n",
      "Epoch 188 Batch    8/19   train_loss = 0.275\n",
      "Epoch 189 Batch    9/19   train_loss = 0.281\n",
      "Epoch 190 Batch   10/19   train_loss = 0.289\n",
      "Epoch 191 Batch   11/19   train_loss = 0.265\n",
      "Epoch 192 Batch   12/19   train_loss = 0.283\n",
      "Epoch 193 Batch   13/19   train_loss = 0.271\n",
      "Epoch 194 Batch   14/19   train_loss = 0.261\n",
      "Epoch 195 Batch   15/19   train_loss = 0.283\n",
      "Epoch 196 Batch   16/19   train_loss = 0.254\n",
      "Epoch 197 Batch   17/19   train_loss = 0.270\n",
      "Epoch 198 Batch   18/19   train_loss = 0.257\n",
      "Model Trained and Saved\n"
     ]
    }
   ],
   "source": [
    "\"\"\"\n",
    "DON'T MODIFY ANYTHING IN THIS CELL\n",
    "\"\"\"\n",
    "batches = get_batches(int_text, batch_size, seq_length)\n",
    "\n",
    "with tf.Session(graph=train_graph) as sess:\n",
    "    sess.run(tf.global_variables_initializer())\n",
    "\n",
    "    for epoch_i in range(num_epochs):\n",
    "        state = sess.run(initial_state, {input_text: batches[0][0]})\n",
    "\n",
    "        for batch_i, (x, y) in enumerate(batches):\n",
    "            feed = {\n",
    "                input_text: x,\n",
    "                targets: y,\n",
    "                initial_state: state,\n",
    "                lr: learning_rate}\n",
    "            train_loss, state, _ = sess.run([cost, final_state, train_op], feed)\n",
    "\n",
    "            # Show every <show_every_n_batches> batches\n",
    "            if (epoch_i * len(batches) + batch_i) % show_every_n_batches == 0:\n",
    "                print('Epoch {:>3} Batch {:>4}/{}   train_loss = {:.3f}'.format(\n",
    "                    epoch_i,\n",
    "                    batch_i,\n",
    "                    len(batches),\n",
    "                    train_loss))\n",
    "\n",
    "    # Save Model\n",
    "    saver = tf.train.Saver()\n",
    "    saver.save(sess, save_dir)\n",
    "    print('Model Trained and Saved')"
   ]
  },
  {
   "cell_type": "markdown",
   "metadata": {
    "deletable": true,
    "editable": true
   },
   "source": [
    "## Save Parameters\n",
    "Save `seq_length` and `save_dir` for generating a new TV script."
   ]
  },
  {
   "cell_type": "code",
   "execution_count": 35,
   "metadata": {
    "collapsed": false,
    "deletable": true,
    "editable": true
   },
   "outputs": [],
   "source": [
    "\"\"\"\n",
    "DON'T MODIFY ANYTHING IN THIS CELL\n",
    "\"\"\"\n",
    "# Save parameters for checkpoint\n",
    "helper.save_params((seq_length, save_dir))"
   ]
  },
  {
   "cell_type": "markdown",
   "metadata": {
    "deletable": true,
    "editable": true
   },
   "source": [
    "# Checkpoint"
   ]
  },
  {
   "cell_type": "code",
   "execution_count": 36,
   "metadata": {
    "collapsed": false,
    "deletable": true,
    "editable": true
   },
   "outputs": [],
   "source": [
    "\"\"\"\n",
    "DON'T MODIFY ANYTHING IN THIS CELL\n",
    "\"\"\"\n",
    "import tensorflow as tf\n",
    "import numpy as np\n",
    "import helper\n",
    "import problem_unittests as tests\n",
    "\n",
    "_, vocab_to_int, int_to_vocab, token_dict = helper.load_preprocess()\n",
    "seq_length, load_dir = helper.load_params()"
   ]
  },
  {
   "cell_type": "markdown",
   "metadata": {
    "deletable": true,
    "editable": true
   },
   "source": [
    "## Implement Generate Functions\n",
    "### Get Tensors\n",
    "Get tensors from `loaded_graph` using the function [`get_tensor_by_name()`](https://www.tensorflow.org/api_docs/python/tf/Graph#get_tensor_by_name).  Get the tensors using the following names:\n",
    "- \"input:0\"\n",
    "- \"initial_state:0\"\n",
    "- \"final_state:0\"\n",
    "- \"probs:0\"\n",
    "\n",
    "Return the tensors in the following tuple `(InputTensor, InitialStateTensor, FinalStateTensor, ProbsTensor)` "
   ]
  },
  {
   "cell_type": "code",
   "execution_count": 37,
   "metadata": {
    "collapsed": false,
    "deletable": true,
    "editable": true
   },
   "outputs": [
    {
     "name": "stdout",
     "output_type": "stream",
     "text": [
      "Tests Passed\n"
     ]
    }
   ],
   "source": [
    "def get_tensors(loaded_graph):\n",
    "    \"\"\"\n",
    "    Get input, initial state, final state, and probabilities tensor from <loaded_graph>\n",
    "    :param loaded_graph: TensorFlow graph loaded from file\n",
    "    :return: Tuple (InputTensor, InitialStateTensor, FinalStateTensor, ProbsTensor)\n",
    "    \"\"\"\n",
    "    \n",
    "    inputs = loaded_graph.get_tensor_by_name('input:0')\n",
    "    init_state = loaded_graph.get_tensor_by_name('initial_state:0')\n",
    "    final_state = loaded_graph.get_tensor_by_name('final_state:0')\n",
    "    probs = loaded_graph.get_tensor_by_name('probs:0')\n",
    "    \n",
    "    return(inputs, init_state, final_state, probs)\n",
    "\n",
    "\"\"\"\n",
    "DON'T MODIFY ANYTHING IN THIS CELL THAT IS BELOW THIS LINE\n",
    "\"\"\"\n",
    "tests.test_get_tensors(get_tensors)"
   ]
  },
  {
   "cell_type": "markdown",
   "metadata": {
    "deletable": true,
    "editable": true
   },
   "source": [
    "### Choose Word\n",
    "Implement the `pick_word()` function to select the next word using `probabilities`."
   ]
  },
  {
   "cell_type": "code",
   "execution_count": 38,
   "metadata": {
    "collapsed": false,
    "deletable": true,
    "editable": true
   },
   "outputs": [
    {
     "name": "stdout",
     "output_type": "stream",
     "text": [
      "Tests Passed\n"
     ]
    }
   ],
   "source": [
    "def pick_word(probabilities, int_to_vocab):\n",
    "    \"\"\"\n",
    "    Pick the next word in the generated text\n",
    "    :param probabilities: Probabilites of the next word\n",
    "    :param int_to_vocab: Dictionary of word ids as the keys and words as the values\n",
    "    :return: String of the predicted word\n",
    "    \"\"\"\n",
    "    \n",
    "    keys = np.array(list(int_to_vocab.keys()))\n",
    "    \n",
    "    picked = np.random.choice(keys, size=1, p=probabilities)\n",
    "    \n",
    "    return(int_to_vocab[picked[0]])\n",
    "\n",
    "\n",
    "\"\"\"\n",
    "DON'T MODIFY ANYTHING IN THIS CELL THAT IS BELOW THIS LINE\n",
    "\"\"\"\n",
    "tests.test_pick_word(pick_word)"
   ]
  },
  {
   "cell_type": "markdown",
   "metadata": {
    "deletable": true,
    "editable": true
   },
   "source": [
    "## Generate TV Script\n",
    "This will generate the TV script for you.  Set `gen_length` to the length of TV script you want to generate."
   ]
  },
  {
   "cell_type": "code",
   "execution_count": 39,
   "metadata": {
    "collapsed": false,
    "deletable": true,
    "editable": true
   },
   "outputs": [
    {
     "name": "stdout",
     "output_type": "stream",
     "text": [
      "homer_simpson: thanks, moe.\n",
      "moe_szyslak: oh yeah.\n",
      "seymour_skinner: no. absolutely no friction dancing! those cool in the game. and sometime when you least it was in therapy and she remember what the beauty part you, i'm all a(air quotes)\" dive.\n",
      "\n",
      "\n",
      "lenny_leonard: so this broad stands up. the job is it work.\n",
      "moe_szyslak:(proud) that means it's toys accurate. i'm gonna go get right into that ugly?\n",
      "homer_simpson:(pained) oh, who is all the guys in this booth down for ya.\n",
      "lenny_leonard: and c'mon.\n",
      "barney_gumble: i'm a free man who need some kind of polygon.\n",
      "teenage_barney: yes, managing the only one about that...\n",
      "homer_simpson:(eyes wide, gasps) god, there it?\n",
      "homer_simpson: yeah, you got somethin'...\n",
      "moe_szyslak: so you all hate\" tipsy homer_simpson: no, thank you, lenny in the fridge in my bar.(low) hey moe, that's me. i am sick of those stupid politicians in\n"
     ]
    }
   ],
   "source": [
    "gen_length = 200\n",
    "# homer_simpson, moe_szyslak, or Barney_Gumble\n",
    "prime_word = 'homer_simpson'\n",
    "\n",
    "\"\"\"\n",
    "DON'T MODIFY ANYTHING IN THIS CELL THAT IS BELOW THIS LINE\n",
    "\"\"\"\n",
    "loaded_graph = tf.Graph()\n",
    "with tf.Session(graph=loaded_graph) as sess:\n",
    "    # Load saved model\n",
    "    loader = tf.train.import_meta_graph(load_dir + '.meta')\n",
    "    loader.restore(sess, load_dir)\n",
    "\n",
    "    # Get Tensors from loaded model\n",
    "    input_text, initial_state, final_state, probs = get_tensors(loaded_graph)\n",
    "\n",
    "    # Sentences generation setup\n",
    "    gen_sentences = [prime_word + ':']\n",
    "    prev_state = sess.run(initial_state, {input_text: np.array([[1]])})\n",
    "\n",
    "    # Generate sentences\n",
    "    for n in range(gen_length):\n",
    "        # Dynamic Input\n",
    "        dyn_input = [[vocab_to_int[word] for word in gen_sentences[-seq_length:]]]\n",
    "        dyn_seq_length = len(dyn_input[0])\n",
    "\n",
    "        # Get Prediction\n",
    "        probabilities, prev_state = sess.run(\n",
    "            [probs, final_state],\n",
    "            {input_text: dyn_input, initial_state: prev_state})\n",
    "        \n",
    "        pred_word = pick_word(probabilities[dyn_seq_length-1], int_to_vocab)\n",
    "\n",
    "        gen_sentences.append(pred_word)\n",
    "    \n",
    "    # Remove tokens\n",
    "    tv_script = ' '.join(gen_sentences)\n",
    "    for key, token in token_dict.items():\n",
    "        ending = ' ' if key in ['\\n', '(', '\"'] else ''\n",
    "        tv_script = tv_script.replace(' ' + token.lower(), key)\n",
    "    tv_script = tv_script.replace('\\n ', '\\n')\n",
    "    tv_script = tv_script.replace('( ', '(')\n",
    "        \n",
    "    print(tv_script)"
   ]
  },
  {
   "cell_type": "markdown",
   "metadata": {
    "deletable": true,
    "editable": true
   },
   "source": [
    "# The TV Script is Nonsensical\n",
    "It's ok if the TV script doesn't make any sense.  We trained on less than a megabyte of text.  In order to get good results, you'll have to use a smaller vocabulary or get more data.  Luckly there's more data!  As we mentioned in the begging of this project, this is a subset of [another dataset](https://www.kaggle.com/wcukierski/the-simpsons-by-the-data).  We didn't have you train on all the data, because that would take too long.  However, you are free to train your neural network on all the data.  After you complete the project, of course.\n",
    "# Submitting This Project\n",
    "When submitting this project, make sure to run all the cells before saving the notebook. Save the notebook file as \"dlnd_tv_script_generation.ipynb\" and save it as a HTML file under \"File\" -> \"Download as\". Include the \"helper.py\" and \"problem_unittests.py\" files in your submission."
   ]
  },
  {
   "cell_type": "code",
   "execution_count": null,
   "metadata": {
    "collapsed": true,
    "deletable": true,
    "editable": true
   },
   "outputs": [],
   "source": []
  }
 ],
 "metadata": {
  "hide_input": false,
  "kernelspec": {
   "display_name": "Python 3",
   "language": "python",
   "name": "python3"
  },
  "language_info": {
   "codemirror_mode": {
    "name": "ipython",
    "version": 3
   },
   "file_extension": ".py",
   "mimetype": "text/x-python",
   "name": "python",
   "nbconvert_exporter": "python",
   "pygments_lexer": "ipython3",
   "version": "3.4.3"
  },
  "widgets": {
   "state": {},
   "version": "1.1.2"
  }
 },
 "nbformat": 4,
 "nbformat_minor": 0
}
